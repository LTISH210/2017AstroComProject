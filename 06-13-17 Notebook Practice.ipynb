{
 "cells": [
  {
   "cell_type": "code",
   "execution_count": 1,
   "metadata": {
    "collapsed": true
   },
   "outputs": [],
   "source": [
    "import yt"
   ]
  },
  {
   "cell_type": "code",
   "execution_count": 2,
   "metadata": {
    "collapsed": true
   },
   "outputs": [],
   "source": [
    "import numpy as np"
   ]
  },
  {
   "cell_type": "code",
   "execution_count": 38,
   "metadata": {
    "collapsed": false
   },
   "outputs": [
    {
     "name": "stdout",
     "output_type": "stream",
     "text": [
      "Using matplotlib backend: MacOSX\n"
     ]
    }
   ],
   "source": [
    "import matplotlib as mpl\n",
    "import matplotlib.pyplot as plt\n",
    "%matplotlib"
   ]
  },
  {
   "cell_type": "code",
   "execution_count": 61,
   "metadata": {
    "collapsed": true
   },
   "outputs": [],
   "source": [
    "import yt.units as u"
   ]
  },
  {
   "cell_type": "code",
   "execution_count": 63,
   "metadata": {
    "collapsed": false
   },
   "outputs": [
    {
     "data": {
      "text/plain": [
       "0.000334747044761 g"
      ]
     },
     "execution_count": 63,
     "metadata": {},
     "output_type": "execute_result"
    }
   ],
   "source": [
    "u.mp*2e20"
   ]
  },
  {
   "cell_type": "code",
   "execution_count": 65,
   "metadata": {
    "collapsed": false
   },
   "outputs": [
    {
     "data": {
      "text/plain": [
       "3.34747044761e-07 g"
      ]
     },
     "execution_count": 65,
     "metadata": {},
     "output_type": "execute_result"
    }
   ],
   "source": [
    "u.mp*2e17"
   ]
  },
  {
   "cell_type": "code",
   "execution_count": null,
   "metadata": {
    "collapsed": true
   },
   "outputs": [],
   "source": []
  },
  {
   "cell_type": "code",
   "execution_count": 3,
   "metadata": {
    "collapsed": false,
    "scrolled": true
   },
   "outputs": [
    {
     "name": "stderr",
     "output_type": "stream",
     "text": [
      "yt : [INFO     ] 2017-06-13 10:59:24,135 Calculating time from 1.000e+00 to be 4.355e+17 seconds\n",
      "yt : [INFO     ] 2017-06-13 10:59:24,137 Assuming length units are in kpc/h (comoving)\n",
      "yt : [INFO     ] 2017-06-13 10:59:24,182 Parameters: current_time              = 4.35455710881e+17 s\n",
      "yt : [INFO     ] 2017-06-13 10:59:24,185 Parameters: domain_dimensions         = [2 2 2]\n",
      "yt : [INFO     ] 2017-06-13 10:59:24,188 Parameters: domain_left_edge          = [ 0.  0.  0.]\n",
      "yt : [INFO     ] 2017-06-13 10:59:24,192 Parameters: domain_right_edge         = [ 60000.  60000.  60000.]\n",
      "yt : [INFO     ] 2017-06-13 10:59:24,197 Parameters: cosmological_simulation   = 1\n",
      "yt : [INFO     ] 2017-06-13 10:59:24,199 Parameters: current_redshift          = 0.0\n",
      "yt : [INFO     ] 2017-06-13 10:59:24,201 Parameters: omega_lambda              = 0.728\n",
      "yt : [INFO     ] 2017-06-13 10:59:24,204 Parameters: omega_matter              = 0.272\n",
      "yt : [INFO     ] 2017-06-13 10:59:24,206 Parameters: hubble_constant           = 0.702\n"
     ]
    }
   ],
   "source": [
    "ds = yt.load(\"/Users/astrocomnyc/Desktop/FIRE_M12i_ref11/snapshot_600.hdf5\")\n"
   ]
  },
  {
   "cell_type": "code",
   "execution_count": 4,
   "metadata": {
    "collapsed": false
   },
   "outputs": [
    {
     "name": "stderr",
     "output_type": "stream",
     "text": [
      "yt : [INFO     ] 2017-06-13 10:59:28,149 Allocating for 4.787e+06 particles (index particle type 'all')\n",
      "yt : [INFO     ] 2017-06-13 10:59:29,037 Identified 3.468e+05 octs\n",
      "yt : [INFO     ] 2017-06-13 11:00:09,263 Max Value is 4.06917e-22 at 29286.1032485961914062 31049.2944717407226562 32589.5833969116210938\n"
     ]
    }
   ],
   "source": [
    "da = ds.sphere(\"max\",(50,'kpc'))"
   ]
  },
  {
   "cell_type": "code",
   "execution_count": 5,
   "metadata": {
    "collapsed": false
   },
   "outputs": [
    {
     "data": {
      "text/plain": [
       "YTSphere (snapshot_600): , center=[  1.28728593e+26   1.36478792e+26   1.43249212e+26] cm, radius=1.54283879048e+23 cm"
      ]
     },
     "execution_count": 5,
     "metadata": {},
     "output_type": "execute_result"
    }
   ],
   "source": [
    "da"
   ]
  },
  {
   "cell_type": "code",
   "execution_count": 7,
   "metadata": {
    "collapsed": false,
    "scrolled": true
   },
   "outputs": [
    {
     "name": "stderr",
     "output_type": "stream",
     "text": [
      "yt : [INFO     ] 2017-06-13 11:01:19,718 Projection completed\n",
      "yt : [INFO     ] 2017-06-13 11:01:19,737 xlim = 143172070060475930051084288.000000 143326353939524060572549120.000000\n",
      "yt : [INFO     ] 2017-06-13 11:01:19,738 ylim = 128651451060475933302456320.000000 128805734939524063823921152.000000\n",
      "yt : [INFO     ] 2017-06-13 11:01:19,743 xlim = 32572.033385 32607.133385\n",
      "yt : [INFO     ] 2017-06-13 11:01:19,746 ylim = 29268.553267 29303.653267\n",
      "yt : [INFO     ] 2017-06-13 11:01:19,759 Making a fixed resolution buffer of (('gas', 'density')) 800 by 800\n"
     ]
    }
   ],
   "source": [
    "plot = yt.ProjectionPlot(ds,\"y\", \"density\",data_source=da, center=([  1.28728593e+26,   1.36478792e+26,   1.43249212e+26], \"cm\"), width=(50,\"kpc\"))"
   ]
  },
  {
   "cell_type": "code",
   "execution_count": 8,
   "metadata": {
    "collapsed": false
   },
   "outputs": [
    {
     "name": "stderr",
     "output_type": "stream",
     "text": [
      "yt : [INFO     ] 2017-06-13 11:02:27,495 Projection completed\n",
      "yt : [INFO     ] 2017-06-13 11:02:27,496 xlim = 0.000000 60000.000000\n",
      "yt : [INFO     ] 2017-06-13 11:02:27,497 ylim = 0.000000 60000.000000\n",
      "yt : [INFO     ] 2017-06-13 11:02:27,499 xlim = 0.000000 60000.000000\n",
      "yt : [INFO     ] 2017-06-13 11:02:27,500 ylim = 0.000000 60000.000000\n",
      "yt : [INFO     ] 2017-06-13 11:02:27,503 Making a fixed resolution buffer of (('gas', 'density')) 800 by 800\n"
     ]
    }
   ],
   "source": [
    "proj = yt.ProjectionPlot(ds, 'z', \"density\", weight_field=\"density\")"
   ]
  },
  {
   "cell_type": "code",
   "execution_count": 43,
   "metadata": {
    "collapsed": true
   },
   "outputs": [],
   "source": [
    "proj_frb = proj.data_source.to_frb((1.0, \"Mpc\"), 512)"
   ]
  },
  {
   "cell_type": "code",
   "execution_count": 44,
   "metadata": {
    "collapsed": false,
    "scrolled": true
   },
   "outputs": [
    {
     "name": "stderr",
     "output_type": "stream",
     "text": [
      "yt : [INFO     ] 2017-06-13 11:48:57,474 Making a fixed resolution buffer of (density) 512 by 512\n"
     ]
    }
   ],
   "source": [
    "proj_dens = np.array(proj_frb['density'])"
   ]
  },
  {
   "cell_type": "code",
   "execution_count": 45,
   "metadata": {
    "collapsed": false
   },
   "outputs": [
    {
     "data": {
      "text/plain": [
       "ImageArray([[  3.38299242e+34,   3.38299242e+34,   3.38299242e+34, ...,\n",
       "          1.72795815e+32,   1.72795815e+32,   1.72795815e+32],\n",
       "       [  3.38299242e+34,   3.38299242e+34,   3.38299242e+34, ...,\n",
       "          1.72795815e+32,   1.72795815e+32,   1.72795815e+32],\n",
       "       [  3.38299242e+34,   3.38299242e+34,   3.38299242e+34, ...,\n",
       "          1.72795815e+32,   1.72795815e+32,   1.72795815e+32],\n",
       "       ..., \n",
       "       [  2.55031564e+34,   2.55031564e+34,   2.55031564e+34, ...,\n",
       "          3.58786237e+33,   3.58786237e+33,   3.58786237e+33],\n",
       "       [  2.55031564e+34,   2.55031564e+34,   2.55031564e+34, ...,\n",
       "          3.58786237e+33,   3.58786237e+33,   3.58786237e+33],\n",
       "       [  2.55031564e+34,   2.55031564e+34,   2.55031564e+34, ...,\n",
       "          3.58786237e+33,   3.58786237e+33,   3.58786237e+33]]) g/kpc**3"
      ]
     },
     "execution_count": 45,
     "metadata": {},
     "output_type": "execute_result"
    }
   ],
   "source": [
    "proj_frb['density'].in_units(\"g/kpc**3\")"
   ]
  },
  {
   "cell_type": "code",
   "execution_count": 46,
   "metadata": {
    "collapsed": false
   },
   "outputs": [
    {
     "data": {
      "text/plain": [
       "<matplotlib.image.AxesImage at 0x114cbda50>"
      ]
     },
     "execution_count": 46,
     "metadata": {},
     "output_type": "execute_result"
    }
   ],
   "source": [
    "plt.imshow(proj_dens)"
   ]
  },
  {
   "cell_type": "code",
   "execution_count": 11,
   "metadata": {
    "collapsed": false
   },
   "outputs": [
    {
     "name": "stderr",
     "output_type": "stream",
     "text": [
      "yt : [INFO     ] 2017-06-13 11:05:20,914 Max Value is 4.06917e-22 at 29286.1032485961914062 31049.2944717407226562 32589.5833969116210938\n"
     ]
    }
   ],
   "source": [
    "v, c = ds.find_max(\"density\")"
   ]
  },
  {
   "cell_type": "code",
   "execution_count": 35,
   "metadata": {
    "collapsed": false
   },
   "outputs": [
    {
     "name": "stderr",
     "output_type": "stream",
     "text": [
      "yt : [INFO     ] 2017-06-13 11:44:16,460 Projection completed\n",
      "yt : [INFO     ] 2017-06-13 11:44:16,461 xlim = 0.000000 60000.000000\n",
      "yt : [INFO     ] 2017-06-13 11:44:16,462 ylim = 0.000000 60000.000000\n",
      "yt : [INFO     ] 2017-06-13 11:44:16,464 xlim = 0.000000 60000.000000\n",
      "yt : [INFO     ] 2017-06-13 11:44:16,465 ylim = 0.000000 60000.000000\n",
      "yt : [INFO     ] 2017-06-13 11:44:16,469 Making a fixed resolution buffer of (('gas', 'density')) 800 by 800\n"
     ]
    }
   ],
   "source": [
    "proj = yt.ProjectionPlot(ds, 'z', \"density\", weight_field=\"density\")"
   ]
  },
  {
   "cell_type": "code",
   "execution_count": 36,
   "metadata": {
    "collapsed": false,
    "scrolled": false
   },
   "outputs": [
    {
     "data": {
      "text/html": [
       "<img style=\"max-width:100%%;max-height:100%%;\" src=\"data:image/png;base64,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\"><br>"
      ],
      "text/plain": [
       "<yt.visualization.plot_window.ProjectionPlot at 0x12686ad90>"
      ]
     },
     "metadata": {},
     "output_type": "display_data"
    }
   ],
   "source": [
    "proj.show()"
   ]
  },
  {
   "cell_type": "code",
   "execution_count": 18,
   "metadata": {
    "collapsed": false
   },
   "outputs": [
    {
     "data": {
      "text/plain": [
       "array([[  1.15146141e-30,   1.15146141e-30,   1.15146141e-30, ...,\n",
       "          5.88141176e-33,   5.88141176e-33,   5.88141176e-33],\n",
       "       [  1.15146141e-30,   1.15146141e-30,   1.15146141e-30, ...,\n",
       "          5.88141176e-33,   5.88141176e-33,   5.88141176e-33],\n",
       "       [  1.15146141e-30,   1.15146141e-30,   1.15146141e-30, ...,\n",
       "          5.88141176e-33,   5.88141176e-33,   5.88141176e-33],\n",
       "       ..., \n",
       "       [  8.68045116e-31,   8.68045116e-31,   8.68045116e-31, ...,\n",
       "          1.22119253e-31,   1.22119253e-31,   1.22119253e-31],\n",
       "       [  8.68045116e-31,   8.68045116e-31,   8.68045116e-31, ...,\n",
       "          1.22119253e-31,   1.22119253e-31,   1.22119253e-31],\n",
       "       [  8.68045116e-31,   8.68045116e-31,   8.68045116e-31, ...,\n",
       "          1.22119253e-31,   1.22119253e-31,   1.22119253e-31]])"
      ]
     },
     "execution_count": 18,
     "metadata": {},
     "output_type": "execute_result"
    }
   ],
   "source": [
    "proj_dens"
   ]
  },
  {
   "cell_type": "code",
   "execution_count": 20,
   "metadata": {
    "collapsed": false,
    "scrolled": true
   },
   "outputs": [
    {
     "data": {
      "text/plain": [
       "array([[ True,  True,  True, ..., False, False, False],\n",
       "       [ True,  True,  True, ..., False, False, False],\n",
       "       [ True,  True,  True, ..., False, False, False],\n",
       "       ..., \n",
       "       [False, False, False, ..., False, False, False],\n",
       "       [False, False, False, ..., False, False, False],\n",
       "       [False, False, False, ..., False, False, False]], dtype=bool)"
      ]
     },
     "execution_count": 20,
     "metadata": {},
     "output_type": "execute_result"
    }
   ],
   "source": [
    "proj_dens>1.0e-30"
   ]
  },
  {
   "cell_type": "code",
   "execution_count": 22,
   "metadata": {
    "collapsed": false
   },
   "outputs": [
    {
     "data": {
      "text/plain": [
       "9560"
      ]
     },
     "execution_count": 22,
     "metadata": {},
     "output_type": "execute_result"
    }
   ],
   "source": [
    "np.sum(proj_dens>1.0e-30)"
   ]
  },
  {
   "cell_type": "code",
   "execution_count": 25,
   "metadata": {
    "collapsed": false
   },
   "outputs": [
    {
     "data": {
      "text/plain": [
       "array([[ True,  True,  True, ..., False, False, False],\n",
       "       [ True,  True,  True, ..., False, False, False],\n",
       "       [ True,  True,  True, ..., False, False, False],\n",
       "       ..., \n",
       "       [False, False, False, ..., False, False, False],\n",
       "       [False, False, False, ..., False, False, False],\n",
       "       [False, False, False, ..., False, False, False]], dtype=bool)"
      ]
     },
     "execution_count": 25,
     "metadata": {},
     "output_type": "execute_result"
    }
   ],
   "source": [
    "proj_frb[\"density\"]>1.0e-30"
   ]
  },
  {
   "cell_type": "code",
   "execution_count": 48,
   "metadata": {
    "collapsed": false
   },
   "outputs": [
    {
     "name": "stdout",
     "output_type": "stream",
     "text": [
      "Help on FixedResolutionBuffer in module yt.visualization.fixed_resolution object:\n",
      "\n",
      "class FixedResolutionBuffer(__builtin__.object)\n",
      " |  FixedResolutionBuffer(data_source, bounds, buff_size, antialias = True)\n",
      " |  \n",
      " |  This accepts a 2D data object, such as a Projection or Slice, and\n",
      " |  implements a protocol for generating a pixelized, fixed-resolution\n",
      " |  image buffer.\n",
      " |  \n",
      " |  yt stores 2D AMR data internally as a set of 2D coordinates and the\n",
      " |  half-width of individual pixels.  Converting this to an image buffer\n",
      " |  requires a deposition step, where individual variable-resolution pixels\n",
      " |  are deposited into a buffer of some resolution, to create an image.\n",
      " |  This object is an interface to that pixelization step: it can deposit\n",
      " |  multiple fields.  It acts as a standard YTDataContainer object, such that\n",
      " |  dict-style access returns an image of a given field.\n",
      " |  \n",
      " |  Parameters\n",
      " |  ----------\n",
      " |  data_source : :class:`yt.data_objects.construction_data_containers.YTQuadTreeProj` or :class:`yt.data_objects.selection_data_containers.YTSlice`\n",
      " |      This is the source to be pixelized, which can be a projection or a\n",
      " |      slice.  (For cutting planes, see\n",
      " |      `yt.visualization.fixed_resolution.ObliqueFixedResolutionBuffer`.)\n",
      " |  bounds : sequence of floats\n",
      " |      Bounds are the min and max in the image plane that we want our\n",
      " |      image to cover.  It's in the order of (xmin, xmax, ymin, ymax),\n",
      " |      where the coordinates are all in the appropriate code units.\n",
      " |  buff_size : sequence of ints\n",
      " |      The size of the image to generate.\n",
      " |  antialias : boolean\n",
      " |      This can be true or false.  It determines whether or not sub-pixel\n",
      " |      rendering is used during data deposition.\n",
      " |  periodic : boolean\n",
      " |      This can be true or false, and governs whether the pixelization\n",
      " |      will span the domain boundaries.\n",
      " |  \n",
      " |  See Also\n",
      " |  --------\n",
      " |  :class:`yt.visualization.fixed_resolution.ObliqueFixedResolutionBuffer` : A similar object,\n",
      " |                                                   used for cutting\n",
      " |                                                   planes.\n",
      " |  \n",
      " |  Examples\n",
      " |  --------\n",
      " |  To make a projection and then several images, you can generate a\n",
      " |  single FRB and then access multiple fields:\n",
      " |  \n",
      " |  >>> proj = ds.proj(0, \"density\")\n",
      " |  >>> frb1 = FixedResolutionBuffer(proj, (0.2, 0.3, 0.4, 0.5),\n",
      " |  ...                              (1024, 1024))\n",
      " |  >>> print frb1[\"density\"].max()\n",
      " |  1.0914e-9 g/cm**3\n",
      " |  >>> print frb1[\"temperature\"].max()\n",
      " |  104923.1 K\n",
      " |  \n",
      " |  Methods defined here:\n",
      " |  \n",
      " |  __delitem__(self, item)\n",
      " |  \n",
      " |  __getitem__(self, item)\n",
      " |  \n",
      " |  __init__(self, data_source, bounds, buff_size, antialias=True, periodic=False)\n",
      " |  \n",
      " |  __setitem__(self, item, val)\n",
      " |  \n",
      " |  convert_distance_x(self, distance)\n",
      " |      This function converts code-space distance into pixel-space\n",
      " |      distance in the x-coordiante.\n",
      " |      \n",
      " |      Parameters\n",
      " |      ----------\n",
      " |      distance : array_like\n",
      " |          This is x-distance in code-space you would like to convert.\n",
      " |      \n",
      " |      Returns\n",
      " |      -------\n",
      " |      output : array_like\n",
      " |          The return value is the distance in the y-pixel coordinates.\n",
      " |  \n",
      " |  convert_distance_y(self, distance)\n",
      " |      This function converts code-space distance into pixel-space\n",
      " |      distance in the y-coordiante.\n",
      " |      \n",
      " |      Parameters\n",
      " |      ----------\n",
      " |      distance : array_like\n",
      " |          This is y-distance in code-space you would like to convert.\n",
      " |      \n",
      " |      Returns\n",
      " |      -------\n",
      " |      output : array_like\n",
      " |          The return value is the distance in the x-pixel coordinates.\n",
      " |  \n",
      " |  convert_to_pixel(self, coords)\n",
      " |      This function converts coordinates in code-space to pixel-space.\n",
      " |      \n",
      " |      Parameters\n",
      " |      ----------\n",
      " |      coords : sequence of array_like\n",
      " |          This is (x_coord, y_coord).  Because of the way the math is done,\n",
      " |          these can both be arrays.\n",
      " |      \n",
      " |      Returns\n",
      " |      -------\n",
      " |      output : sequence of array_like\n",
      " |          This returns px_coord, py_coord\n",
      " |  \n",
      " |  export_dataset(self, fields=None, nprocs=1)\n",
      " |      Export a set of pixelized fields to an in-memory dataset that can be\n",
      " |      analyzed as any other in yt. Unit information and other parameters (e.g.,\n",
      " |      geometry, current_time, etc.) will be taken from the parent dataset.\n",
      " |      \n",
      " |      Parameters\n",
      " |      ----------\n",
      " |      fields : list of strings, optional\n",
      " |          These fields will be pixelized and output. If \"None\", the keys of the\n",
      " |          FRB will be used.\n",
      " |      nprocs: integer, optional\n",
      " |          If greater than 1, will create this number of subarrays out of data\n",
      " |      \n",
      " |      Examples\n",
      " |      --------\n",
      " |      >>> import yt\n",
      " |      >>> ds = yt.load(\"GasSloshing/sloshing_nomag2_hdf5_plt_cnt_0150\")\n",
      " |      >>> slc = ds.slice(2, 0.0)\n",
      " |      >>> frb = slc.to_frb((500.,\"kpc\"), 500)\n",
      " |      >>> ds2 = frb.export_dataset(fields=[\"density\",\"temperature\"], nprocs=32)\n",
      " |  \n",
      " |  export_fits(self, filename, fields=None, clobber=False, other_keys=None, units='cm')\n",
      " |      Export a set of pixelized fields to a FITS file.\n",
      " |      \n",
      " |      This will export a set of FITS images of either the fields specified\n",
      " |      or all the fields already in the object.\n",
      " |      \n",
      " |      Parameters\n",
      " |      ----------\n",
      " |      filename : string\n",
      " |          The name of the FITS file to be written.\n",
      " |      fields : list of strings\n",
      " |          These fields will be pixelized and output. If \"None\", the keys of the\n",
      " |          FRB will be used.\n",
      " |      clobber : boolean\n",
      " |          If the file exists, this governs whether we will overwrite.\n",
      " |      other_keys : dictionary, optional\n",
      " |          A set of header keys and values to write into the FITS header.\n",
      " |      units : string, optional\n",
      " |          the length units that the coordinates are written in, default 'cm'.\n",
      " |  \n",
      " |  export_hdf5(self, filename, fields=None)\n",
      " |      Export a set of fields to a set of HDF5 datasets.\n",
      " |      \n",
      " |      This function will export any number of fields into datasets in a new\n",
      " |      HDF5 file.\n",
      " |      \n",
      " |      Parameters\n",
      " |      ----------\n",
      " |      filename : string\n",
      " |          This file will be opened in \"append\" mode.\n",
      " |      fields : list of strings\n",
      " |          These fields will be pixelized and output.\n",
      " |  \n",
      " |  keys(self)\n",
      " |  \n",
      " |  save_as_dataset(self, filename=None, fields=None)\n",
      " |      Export a fixed resolution buffer to a reloadable yt dataset.\n",
      " |      \n",
      " |      This function will take a fixed resolution buffer and output a \n",
      " |      dataset containing either the fields presently existing or fields \n",
      " |      given in the ``fields`` list.  The resulting dataset can be\n",
      " |      reloaded as a yt dataset.\n",
      " |      \n",
      " |      Parameters\n",
      " |      ----------\n",
      " |      filename : str, optional\n",
      " |          The name of the file to be written.  If None, the name \n",
      " |          will be a combination of the original dataset and the type \n",
      " |          of data container.\n",
      " |      fields : list of strings or tuples, optional\n",
      " |          If this is supplied, it is the list of fields to be saved to\n",
      " |          disk.  If not supplied, all the fields that have been queried\n",
      " |          will be saved.\n",
      " |      \n",
      " |      Returns\n",
      " |      -------\n",
      " |      filename : str\n",
      " |          The name of the file that has been created.\n",
      " |      \n",
      " |      Examples\n",
      " |      --------\n",
      " |      \n",
      " |      >>> import yt\n",
      " |      >>> ds = yt.load(\"enzo_tiny_cosmology/DD0046/DD0046\")\n",
      " |      >>> proj = ds.proj(\"density\", \"x\", weight_field=\"density\")\n",
      " |      >>> frb = proj.to_frb(1.0, (800, 800))\n",
      " |      >>> fn = frb.save_as_dataset(fields=[\"density\"])\n",
      " |      >>> ds2 = yt.load(fn)\n",
      " |      >>> print (ds2.data[\"density\"])\n",
      " |      [[  1.25025353e-30   1.25025353e-30   1.25025353e-30 ...,   7.90820691e-31\n",
      " |          7.90820691e-31   7.90820691e-31]\n",
      " |       [  1.25025353e-30   1.25025353e-30   1.25025353e-30 ...,   7.90820691e-31\n",
      " |          7.90820691e-31   7.90820691e-31]\n",
      " |       [  1.25025353e-30   1.25025353e-30   1.25025353e-30 ...,   7.90820691e-31\n",
      " |          7.90820691e-31   7.90820691e-31]\n",
      " |       ...,\n",
      " |       [  1.55834239e-30   1.55834239e-30   1.55834239e-30 ...,   8.51353199e-31\n",
      " |          8.51353199e-31   8.51353199e-31]\n",
      " |       [  1.55834239e-30   1.55834239e-30   1.55834239e-30 ...,   8.51353199e-31\n",
      " |          8.51353199e-31   8.51353199e-31]\n",
      " |       [  1.55834239e-30   1.55834239e-30   1.55834239e-30 ...,   8.51353199e-31\n",
      " |          8.51353199e-31   8.51353199e-31]] g/cm**3\n",
      " |  \n",
      " |  setup_filters(self)\n",
      " |  \n",
      " |  ----------------------------------------------------------------------\n",
      " |  Data descriptors defined here:\n",
      " |  \n",
      " |  __dict__\n",
      " |      dictionary for instance variables (if defined)\n",
      " |  \n",
      " |  __weakref__\n",
      " |      list of weak references to the object (if defined)\n",
      " |  \n",
      " |  limits\n",
      "\n"
     ]
    }
   ],
   "source": [
    "help(proj_frb)"
   ]
  },
  {
   "cell_type": "code",
   "execution_count": 52,
   "metadata": {
    "collapsed": false,
    "scrolled": true
   },
   "outputs": [
    {
     "data": {
      "text/plain": [
       "ImageArray([[  1.15146141e-30,   1.15146141e-30,   1.15146141e-30, ...,\n",
       "          5.88141176e-33,   5.88141176e-33,   5.88141176e-33],\n",
       "       [  1.15146141e-30,   1.15146141e-30,   1.15146141e-30, ...,\n",
       "          5.88141176e-33,   5.88141176e-33,   5.88141176e-33],\n",
       "       [  1.15146141e-30,   1.15146141e-30,   1.15146141e-30, ...,\n",
       "          5.88141176e-33,   5.88141176e-33,   5.88141176e-33],\n",
       "       ..., \n",
       "       [  8.68045116e-31,   8.68045116e-31,   8.68045116e-31, ...,\n",
       "          1.22119253e-31,   1.22119253e-31,   1.22119253e-31],\n",
       "       [  8.68045116e-31,   8.68045116e-31,   8.68045116e-31, ...,\n",
       "          1.22119253e-31,   1.22119253e-31,   1.22119253e-31],\n",
       "       [  8.68045116e-31,   8.68045116e-31,   8.68045116e-31, ...,\n",
       "          1.22119253e-31,   1.22119253e-31,   1.22119253e-31]]) g/cm**3"
      ]
     },
     "execution_count": 52,
     "metadata": {},
     "output_type": "execute_result"
    }
   ],
   "source": [
    "proj_frb[\"density\"]"
   ]
  },
  {
   "cell_type": "code",
   "execution_count": 64,
   "metadata": {
    "collapsed": false
   },
   "outputs": [
    {
     "data": {
      "text/plain": [
       "array([[False, False, False, ..., False, False, False],\n",
       "       [False, False, False, ..., False, False, False],\n",
       "       [False, False, False, ..., False, False, False],\n",
       "       ..., \n",
       "       [False, False, False, ..., False, False, False],\n",
       "       [False, False, False, ..., False, False, False],\n",
       "       [False, False, False, ..., False, False, False]], dtype=bool)"
      ]
     },
     "execution_count": 64,
     "metadata": {},
     "output_type": "execute_result"
    }
   ],
   "source": [
    "proj_dens>0.000334747044761*u.g "
   ]
  },
  {
   "cell_type": "code",
   "execution_count": null,
   "metadata": {
    "collapsed": true
   },
   "outputs": [],
   "source": []
  }
 ],
 "metadata": {
  "kernelspec": {
   "display_name": "Python 2",
   "language": "python",
   "name": "python2"
  },
  "language_info": {
   "codemirror_mode": {
    "name": "ipython",
    "version": 2
   },
   "file_extension": ".py",
   "mimetype": "text/x-python",
   "name": "python",
   "nbconvert_exporter": "python",
   "pygments_lexer": "ipython2",
   "version": "2.7.13"
  }
 },
 "nbformat": 4,
 "nbformat_minor": 2
}
